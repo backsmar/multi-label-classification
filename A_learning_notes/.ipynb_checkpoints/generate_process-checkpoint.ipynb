{
 "cells": [
  {
   "cell_type": "markdown",
   "metadata": {
    "pycharm": {
     "name": "#%% md\n"
    }
   },
   "source": [
    "## 本文主要记录多标签多分类模型的实现过程\n",
    "\n",
    "### 整体流程\n",
    "1. 依据数据格式，实现“数据读取”功能；（单元测试）\n",
    "2. 基础主干网络ResNet-18实现；\n",
    "3. 实现多标签多分类head，形成整体模型；（与2联合测试，绘制网络）\n",
    "4. 多标签多分类模型损失函数实现；\n",
    "5. 边边角角：配置与训练脚本、测试脚本、预测脚本，等等；（整体测试）\n",
    "6. 进阶修改：损失函数修改，主干网络修改，等等。（整体测试）"
   ]
  },
  {
   "cell_type": "markdown",
   "metadata": {},
   "source": [
    "### 构造训练数据集"
   ]
  },
  {
   "cell_type": "code",
   "execution_count": 1,
   "metadata": {},
   "outputs": [
    {
     "name": "stdout",
     "output_type": "stream",
     "text": [
      "WARNING:tensorflow:From D:\\Software\\Anaconda\\install\\Anaconda3\\envs\\tf13\\lib\\site-packages\\tensorflow\\python\\data\\ops\\iterator_ops.py:532: colocate_with (from tensorflow.python.framework.ops) is deprecated and will be removed in a future version.\n",
      "Instructions for updating:\n",
      "Colocations handled automatically by placer.\n",
      "=================================   0  =======================================\n",
      "input is: \n",
      " tf.Tensor(\n",
      "[[-0.54730872  0.26720298]\n",
      " [-0.86050071  0.31083289]], shape=(2, 2), dtype=float64)\n",
      "+++++++++++++++++++++++++++++++++++++++++++++++++++++++++++++++++++++++++++++++\n",
      "output is: \n",
      " tf.Tensor(\n",
      "[[1.89145406]\n",
      " [0.21500577]], shape=(2, 1), dtype=float64) \n",
      " tf.Tensor(\n",
      "[[-0.21285691]\n",
      " [ 0.6277284 ]], shape=(2, 1), dtype=float64)\n",
      "=================================   1  =======================================\n",
      "input is: \n",
      " tf.Tensor(\n",
      "[[ 1.00501827 -0.83485065]\n",
      " [ 1.67905237  1.30604547]], shape=(2, 2), dtype=float64)\n",
      "+++++++++++++++++++++++++++++++++++++++++++++++++++++++++++++++++++++++++++++++\n",
      "output is: \n",
      " tf.Tensor(\n",
      "[[-1.10457522]\n",
      " [ 0.64685953]], shape=(2, 1), dtype=float64) \n",
      " tf.Tensor(\n",
      "[[-0.47960561]\n",
      " [-0.93504079]], shape=(2, 1), dtype=float64)\n",
      "=================================   2  =======================================\n",
      "input is: \n",
      " tf.Tensor(\n",
      "[[-0.54730872  0.26720298]\n",
      " [-0.86050071  0.31083289]], shape=(2, 2), dtype=float64)\n",
      "+++++++++++++++++++++++++++++++++++++++++++++++++++++++++++++++++++++++++++++++\n",
      "output is: \n",
      " tf.Tensor(\n",
      "[[1.89145406]\n",
      " [0.21500577]], shape=(2, 1), dtype=float64) \n",
      " tf.Tensor(\n",
      "[[-0.21285691]\n",
      " [ 0.6277284 ]], shape=(2, 1), dtype=float64)\n"
     ]
    }
   ],
   "source": [
    "import tensorflow as tf\n",
    "import numpy as np\n",
    "tf.enable_eager_execution()\n",
    "input = np.random.normal(0, 1, [4, 2])\n",
    "out_1 = np.random.normal(0, 1, [4, 1])\n",
    "out_2 = np.random.normal(0, 1, [4, 1])\n",
    "dataset = tf.data.Dataset.from_tensor_slices((input, (out_1, out_2)))\n",
    "dataset = dataset.repeat().batch(2).prefetch(buffer_size=4)\n",
    "\n",
    "# test\n",
    "for i, data in enumerate(dataset):\n",
    "    # (input, (out_1, out_2))\n",
    "    print('=================================   {}  ======================================='.format(i))\n",
    "    print('input is: \\n', data[0])\n",
    "    print('+++++++++++++++++++++++++++++++++++++++++++++++++++++++++++++++++++++++++++++++')\n",
    "    print('output is: \\n', data[1][0], '\\n', data[1][1])\n",
    "    if i >= 2:\n",
    "        break"
   ]
  },
  {
   "cell_type": "markdown",
   "metadata": {
    "pycharm": {
     "name": "#%% md\n"
    }
   },
   "source": [
    "### 建立keras模型\n",
    "1. 定义骨干网络；\n",
    "1. 实现多标签多分类head，形成整体模型；"
   ]
  },
  {
   "cell_type": "code",
   "execution_count": 2,
   "metadata": {
    "pycharm": {
     "is_executing": false,
     "name": "#%%\n"
    }
   },
   "outputs": [],
   "source": [
    "from tensorflow import keras\n",
    "\n",
    "\n",
    "def build_net(input_tensor):\n",
    "    out1 = keras.layers.Dense(1, kernel_initializer='glorot_normal', activation='linear',\n",
    "                              kernel_regularizer=keras.regularizers.l2(10))(input_tensor)\n",
    "    out2 = keras.layers.Dense(1, kernel_initializer='glorot_normal', activation='linear',\n",
    "                              kernel_regularizer=keras.regularizers.l2(10))(input_tensor)\n",
    "    return [out1, out2]\n",
    "\n",
    "\n",
    "feature_input = keras.layers.Input(shape=(2,), name='feature_input')\n",
    "outputs = build_net(feature_input)\n",
    "model = keras.models.Model(feature_input, outputs)"
   ]
  },
  {
   "cell_type": "markdown",
   "metadata": {
    "pycharm": {
     "name": "#%% md\n"
    }
   },
   "source": [
    "### 定义loss函数"
   ]
  },
  {
   "cell_type": "code",
   "execution_count": 3,
   "metadata": {
    "pycharm": {
     "is_executing": false,
     "name": "#%%\n"
    }
   },
   "outputs": [
    {
     "name": "stdout",
     "output_type": "stream",
     "text": [
      "__________________________________________________________________________________________________\n",
      "Layer (type)                    Output Shape         Param #     Connected to                     \n",
      "==================================================================================================\n",
      "feature_input (InputLayer)      (None, 2)            0                                            \n",
      "__________________________________________________________________________________________________\n",
      "dense (Dense)                   (None, 1)            3           feature_input[0][0]              \n",
      "__________________________________________________________________________________________________\n",
      "dense_1 (Dense)                 (None, 1)            3           feature_input[0][0]              \n",
      "==================================================================================================\n",
      "Total params: 6\n",
      "Trainable params: 6\n",
      "Non-trainable params: 0\n",
      "__________________________________________________________________________________________________\n"
     ]
    }
   ],
   "source": [
    "import tensorflow as tf\n",
    "\n",
    "\n",
    "def my_loss(y_dummy, pred):\n",
    "    loss = tf.keras.losses.mean_absolute_error(y_dummy, pred)\n",
    "    return loss\n",
    "\n",
    "\n",
    "model.compile(loss=my_loss, optimizer='adam', loss_weights=[0.5, 0.5])\n",
    "model.summary()"
   ]
  },
  {
   "cell_type": "markdown",
   "metadata": {},
   "source": [
    "### 训练与测试"
   ]
  },
  {
   "cell_type": "code",
   "execution_count": 4,
   "metadata": {},
   "outputs": [
    {
     "name": "stdout",
     "output_type": "stream",
     "text": [
      "Epoch 1/5\n",
      "WARNING:tensorflow:From D:\\Software\\Anaconda\\install\\Anaconda3\\envs\\tf13\\lib\\site-packages\\tensorflow\\python\\ops\\math_ops.py:3066: to_int32 (from tensorflow.python.ops.math_ops) is deprecated and will be removed in a future version.\n",
      "Instructions for updating:\n",
      "Use tf.cast instead.\n",
      "2/2 [==============================] - 0s 213ms/step - loss: 9.9042 - dense_loss: 1.0547 - dense_1_loss: 0.8552\n",
      "Epoch 2/5\n",
      "2/2 [==============================] - 0s 2ms/step - loss: 9.8423 - dense_loss: 1.0522 - dense_1_loss: 0.8527\n",
      "Epoch 3/5\n",
      "2/2 [==============================] - 0s 2ms/step - loss: 9.7809 - dense_loss: 1.0497 - dense_1_loss: 0.8506\n",
      "Epoch 4/5\n",
      "2/2 [==============================] - 0s 2ms/step - loss: 9.7199 - dense_loss: 1.0473 - dense_1_loss: 0.8484\n",
      "Epoch 5/5\n",
      "2/2 [==============================] - 0s 2ms/step - loss: 9.6592 - dense_loss: 1.0448 - dense_1_loss: 0.8463\n",
      "=================================   0  =======================================\n",
      "input is: \n",
      " tf.Tensor(\n",
      "[[-0.54730872  0.26720298]\n",
      " [-0.86050071  0.31083289]], shape=(2, 2), dtype=float64)\n",
      "+++++++++++++++++++++++++++++++++++++++++++++++++++++++++++++++++++++++++++++++\n",
      "output is: \n",
      " tf.Tensor(\n",
      "[[1.89145406]\n",
      " [0.21500577]], shape=(2, 1), dtype=float64) \n",
      " tf.Tensor(\n",
      "[[-0.21285691]\n",
      " [ 0.6277284 ]], shape=(2, 1), dtype=float64)\n",
      "predictions is: \n",
      " [[-0.1156919]\n",
      " [-0.1786184]] \n",
      " [[-0.41703436]\n",
      " [-0.56524646]]\n",
      "=================================   1  =======================================\n",
      "input is: \n",
      " tf.Tensor(\n",
      "[[ 1.00501827 -0.83485065]\n",
      " [ 1.67905237  1.30604547]], shape=(2, 2), dtype=float64)\n",
      "+++++++++++++++++++++++++++++++++++++++++++++++++++++++++++++++++++++++++++++++\n",
      "output is: \n",
      " tf.Tensor(\n",
      "[[-1.10457522]\n",
      " [ 0.64685953]], shape=(2, 1), dtype=float64) \n",
      " tf.Tensor(\n",
      "[[-0.47960561]\n",
      " [-0.93504079]], shape=(2, 1), dtype=float64)\n",
      "predictions is: \n",
      " [[0.2573548 ]\n",
      " [0.23849788]] \n",
      " [[ 1.0578033 ]\n",
      " [-0.49074632]]\n",
      "=================================   2  =======================================\n",
      "input is: \n",
      " tf.Tensor(\n",
      "[[-0.54730872  0.26720298]\n",
      " [-0.86050071  0.31083289]], shape=(2, 2), dtype=float64)\n",
      "+++++++++++++++++++++++++++++++++++++++++++++++++++++++++++++++++++++++++++++++\n",
      "output is: \n",
      " tf.Tensor(\n",
      "[[1.89145406]\n",
      " [0.21500577]], shape=(2, 1), dtype=float64) \n",
      " tf.Tensor(\n",
      "[[-0.21285691]\n",
      " [ 0.6277284 ]], shape=(2, 1), dtype=float64)\n",
      "predictions is: \n",
      " [[-0.1156919]\n",
      " [-0.1786184]] \n",
      " [[-0.41703436]\n",
      " [-0.56524646]]\n"
     ]
    }
   ],
   "source": [
    "# 训练\n",
    "model.fit(dataset, epochs=5, steps_per_epoch=2, verbose=1)\n",
    "\n",
    "# 测试\n",
    "for i, data in enumerate(dataset):\n",
    "    print('=================================   {}  ======================================='.format(i))\n",
    "    print('input is: \\n', data[0])\n",
    "    print('+++++++++++++++++++++++++++++++++++++++++++++++++++++++++++++++++++++++++++++++')\n",
    "    print('output is: \\n', data[1][0], '\\n', data[1][1])\n",
    "    predictions = model.predict(np.array(data[0]))\n",
    "    print('predictions is: \\n', predictions[0], '\\n', predictions[1])\n",
    "    if i >= 2:\n",
    "        break"
   ]
  },
  {
   "cell_type": "markdown",
   "metadata": {},
   "source": [
    "更细致的debug（查看梯度、打印操作等），可看详细查看本工程。\n"
   ]
  }
 ],
 "metadata": {
  "kernelspec": {
   "display_name": "tf13",
   "language": "python",
   "name": "tf13"
  },
  "language_info": {
   "codemirror_mode": {
    "name": "ipython",
    "version": 3
   },
   "file_extension": ".py",
   "mimetype": "text/x-python",
   "name": "python",
   "nbconvert_exporter": "python",
   "pygments_lexer": "ipython3",
   "version": "3.6.9"
  },
  "pycharm": {
   "stem_cell": {
    "cell_type": "raw",
    "metadata": {
     "collapsed": false
    },
    "source": []
   }
  },
  "toc": {
   "base_numbering": 1,
   "nav_menu": {},
   "number_sections": true,
   "sideBar": true,
   "skip_h1_title": false,
   "title_cell": "Table of Contents",
   "title_sidebar": "Contents",
   "toc_cell": false,
   "toc_position": {},
   "toc_section_display": true,
   "toc_window_display": false
  }
 },
 "nbformat": 4,
 "nbformat_minor": 1
}
